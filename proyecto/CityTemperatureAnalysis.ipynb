{
 "cells": [
  {
   "cell_type": "markdown",
   "id": "8598c4ee-8948-4694-9520-730514c0997f",
   "metadata": {},
   "source": [
    "## Análisis de Datos de Temperatura\n",
    "\n",
    "- Fecha: 2024-08-13\n",
    "- Autor: Sebastian Morales\n",
    "- Objetivo: realizar la isnpección sobre los datos recolectados a través del API de openweather y usando la configuración de Linux para el registro de los mismos"
   ]
  },
  {
   "cell_type": "code",
   "execution_count": 1,
   "id": "f0d0bfc2-34a5-4757-a1ec-9df5a0bfeda0",
   "metadata": {},
   "outputs": [
    {
     "data": {
      "text/plain": [
       "['get-weather.sh',\n",
       " 'CityTemperatureAnalysis.ipynb',\n",
       " 'weather-site',\n",
       " 'debug.log',\n",
       " '.ipynb_checkpoints',\n",
       " 'main.py',\n",
       " 'output.log',\n",
       " 'clima_bogota_2024-08-13.csv']"
      ]
     },
     "execution_count": 1,
     "metadata": {},
     "output_type": "execute_result"
    }
   ],
   "source": [
    "import os\n",
    "import pandas as pd\n",
    "os.listdir(os.getcwd())"
   ]
  },
  {
   "cell_type": "code",
   "execution_count": 2,
   "id": "db4d3453-7616-4868-8f95-930dc65fed48",
   "metadata": {},
   "outputs": [
    {
     "data": {
      "text/plain": [
       "'/home/sebastianmorales/proyecto'"
      ]
     },
     "execution_count": 2,
     "metadata": {},
     "output_type": "execute_result"
    }
   ],
   "source": [
    "os.getcwd() # pwd"
   ]
  },
  {
   "cell_type": "markdown",
   "id": "34dc994b-a482-4547-ba89-103c6ba239ff",
   "metadata": {},
   "source": [
    "### Lectura de Datos\n",
    "Lectura del archivo csv con *with open* debido a que openweather coloca valores sobre la lluvia y la nieve cuando éstos están disponibles por lo que en este caso he obtenido 30 campos de lectura obviando los referidos. Esto puede solventarse incluyendo los campos con valor NaN por defecto en el programa de Python para captura de información"
   ]
  },
  {
   "cell_type": "code",
   "execution_count": 13,
   "id": "700273d9-c22f-4ea6-ab55-7dc6bdc9153a",
   "metadata": {},
   "outputs": [
    {
     "name": "stdout",
     "output_type": "stream",
     "text": [
      "Número de filas filtradas: 28\n"
     ]
    }
   ],
   "source": [
    "import csv\n",
    "csv_file = 'clima_bogota_2024-08-13.csv'\n",
    "filtered_rows = []\n",
    "with open(csv_file, 'r') as f:\n",
    "    reader = csv.reader(f)\n",
    "    for row in reader:\n",
    "        if len(row) == 7:  # Asegúrate de que el número de columnas coincida con el encabezado\n",
    "            filtered_rows.append(row)\n",
    "print(\"Número de filas filtradas:\", len(filtered_rows))"
   ]
  },
  {
   "cell_type": "code",
   "execution_count": 10,
   "id": "66dc76fd-502b-4ad9-b899-abe081958038",
   "metadata": {},
   "outputs": [
    {
     "name": "stdout",
     "output_type": "stream",
     "text": [
      "Número de columnas en el encabezado: 7\n",
      "Número de filas en los datos: 27\n"
     ]
    }
   ],
   "source": [
    "header = filtered_rows[0]\n",
    "data = filtered_rows[1:]\n",
    "print(\"Número de columnas en el encabezado:\", len(header))\n",
    "print(\"Número de filas en los datos:\", len(data))"
   ]
  },
  {
   "cell_type": "code",
   "execution_count": 11,
   "id": "533b2090-b313-4088-b0cd-1f150f4dd827",
   "metadata": {},
   "outputs": [
    {
     "name": "stdout",
     "output_type": "stream",
     "text": [
      "Forma del DataFrame: (27, 7)\n"
     ]
    }
   ],
   "source": [
    "df = pd.DataFrame(data, columns=header)\n",
    "print(\"Forma del DataFrame:\", df.shape)"
   ]
  },
  {
   "cell_type": "code",
   "execution_count": 14,
   "id": "85d521b4-b2da-4fba-9d01-88ced55ccc2f",
   "metadata": {},
   "outputs": [
    {
     "data": {
      "text/html": [
       "<div>\n",
       "<style scoped>\n",
       "    .dataframe tbody tr th:only-of-type {\n",
       "        vertical-align: middle;\n",
       "    }\n",
       "\n",
       "    .dataframe tbody tr th {\n",
       "        vertical-align: top;\n",
       "    }\n",
       "\n",
       "    .dataframe thead th {\n",
       "        text-align: right;\n",
       "    }\n",
       "</style>\n",
       "<table border=\"1\" class=\"dataframe\">\n",
       "  <thead>\n",
       "    <tr style=\"text-align: right;\">\n",
       "      <th></th>\n",
       "      <th>Fecha</th>\n",
       "      <th>Ciudad</th>\n",
       "      <th>Temperatura (K)</th>\n",
       "      <th>Humedad (%)</th>\n",
       "      <th>Descripción</th>\n",
       "      <th>Lluvia (mm)</th>\n",
       "      <th>Nieve (mm)</th>\n",
       "    </tr>\n",
       "  </thead>\n",
       "  <tbody>\n",
       "    <tr>\n",
       "      <th>6</th>\n",
       "      <td>30:02.4</td>\n",
       "      <td>Bogota</td>\n",
       "      <td>288.88</td>\n",
       "      <td>59</td>\n",
       "      <td>few clouds</td>\n",
       "      <td>0</td>\n",
       "      <td>0</td>\n",
       "    </tr>\n",
       "    <tr>\n",
       "      <th>1</th>\n",
       "      <td>30:01.8</td>\n",
       "      <td>Bogota</td>\n",
       "      <td>290.88</td>\n",
       "      <td>52</td>\n",
       "      <td>few clouds</td>\n",
       "      <td>0</td>\n",
       "      <td>0</td>\n",
       "    </tr>\n",
       "    <tr>\n",
       "      <th>4</th>\n",
       "      <td>10:02.4</td>\n",
       "      <td>Bogota</td>\n",
       "      <td>290.88</td>\n",
       "      <td>52</td>\n",
       "      <td>few clouds</td>\n",
       "      <td>0</td>\n",
       "      <td>0</td>\n",
       "    </tr>\n",
       "    <tr>\n",
       "      <th>16</th>\n",
       "      <td>30:01.8</td>\n",
       "      <td>Bogota</td>\n",
       "      <td>287.88</td>\n",
       "      <td>67</td>\n",
       "      <td>broken clouds</td>\n",
       "      <td>0</td>\n",
       "      <td>0</td>\n",
       "    </tr>\n",
       "    <tr>\n",
       "      <th>9</th>\n",
       "      <td>00:02.4</td>\n",
       "      <td>Bogota</td>\n",
       "      <td>288.88</td>\n",
       "      <td>59</td>\n",
       "      <td>few clouds</td>\n",
       "      <td>0</td>\n",
       "      <td>0</td>\n",
       "    </tr>\n",
       "  </tbody>\n",
       "</table>\n",
       "</div>"
      ],
      "text/plain": [
       "      Fecha  Ciudad Temperatura (K) Humedad (%)    Descripción Lluvia (mm)  \\\n",
       "6   30:02.4  Bogota          288.88          59     few clouds           0   \n",
       "1   30:01.8  Bogota          290.88          52     few clouds           0   \n",
       "4   10:02.4  Bogota          290.88          52     few clouds           0   \n",
       "16  30:01.8  Bogota          287.88          67  broken clouds           0   \n",
       "9   00:02.4  Bogota          288.88          59     few clouds           0   \n",
       "\n",
       "   Nieve (mm)  \n",
       "6           0  \n",
       "1           0  \n",
       "4           0  \n",
       "16          0  \n",
       "9           0  "
      ]
     },
     "execution_count": 14,
     "metadata": {},
     "output_type": "execute_result"
    }
   ],
   "source": [
    "df.sample(5)"
   ]
  },
  {
   "cell_type": "markdown",
   "id": "c7b78457-4791-4ca8-8119-d80f8f4eded6",
   "metadata": {},
   "source": [
    "### Análisis de Datos\n",
    "- Se procede a realizar un plot de variables de interés según el tiempo capturado. La primera columna contiene la información del API sobre tiempo en formato **Timestamp**, misma que se puede convertir a **datetime**.\n",
    "- Debido al proceso utilizado para guardar los datos `dt` tiene como tipo de dato objeto por lo que es necesario convertirlo a entero. De igual manera existen otras variables capturadas que en este caso por la lectura con `with open` se detectan como object en vez de sus tipos de datos correctos\n"
   ]
  },
  {
   "cell_type": "code",
   "execution_count": 15,
   "id": "f26cfd90-e163-4b6a-9d46-c72950917ead",
   "metadata": {},
   "outputs": [
    {
     "name": "stdout",
     "output_type": "stream",
     "text": [
      "<class 'pandas.core.frame.DataFrame'>\n",
      "RangeIndex: 27 entries, 0 to 26\n",
      "Data columns (total 7 columns):\n",
      " #   Column           Non-Null Count  Dtype \n",
      "---  ------           --------------  ----- \n",
      " 0   Fecha            27 non-null     object\n",
      " 1   Ciudad           27 non-null     object\n",
      " 2   Temperatura (K)  27 non-null     object\n",
      " 3   Humedad (%)      27 non-null     object\n",
      " 4   Descripción      27 non-null     object\n",
      " 5   Lluvia (mm)      27 non-null     object\n",
      " 6   Nieve (mm)       27 non-null     object\n",
      "dtypes: object(7)\n",
      "memory usage: 1.6+ KB\n"
     ]
    }
   ],
   "source": [
    "df.info()"
   ]
  },
  {
   "cell_type": "code",
   "execution_count": 28,
   "id": "67325379-1ad6-40d6-a46e-9d980005837e",
   "metadata": {},
   "outputs": [
    {
     "ename": "AttributeError",
     "evalue": "'DataFrame' object has no attribute 'dt'",
     "output_type": "error",
     "traceback": [
      "\u001b[0;31m---------------------------------------------------------------------------\u001b[0m",
      "\u001b[0;31mAttributeError\u001b[0m                            Traceback (most recent call last)",
      "\u001b[0;32m/tmp/ipykernel_56500/3378603455.py\u001b[0m in \u001b[0;36m?\u001b[0;34m()\u001b[0m\n\u001b[0;32m----> 1\u001b[0;31m \u001b[0mdf\u001b[0m\u001b[0;34m.\u001b[0m\u001b[0mdt\u001b[0m \u001b[0;34m=\u001b[0m \u001b[0mdf\u001b[0m\u001b[0;34m.\u001b[0m\u001b[0mdt\u001b[0m\u001b[0;34m.\u001b[0m\u001b[0mastype\u001b[0m\u001b[0;34m(\u001b[0m\u001b[0mint\u001b[0m\u001b[0;34m)\u001b[0m\u001b[0;34m\u001b[0m\u001b[0;34m\u001b[0m\u001b[0m\n\u001b[0m\u001b[1;32m      2\u001b[0m \u001b[0mdf\u001b[0m\u001b[0;34m.\u001b[0m\u001b[0msys_sunrise\u001b[0m \u001b[0;34m=\u001b[0m \u001b[0mdf\u001b[0m\u001b[0;34m.\u001b[0m\u001b[0msys_sunrise\u001b[0m\u001b[0;34m.\u001b[0m\u001b[0mastype\u001b[0m\u001b[0;34m(\u001b[0m\u001b[0mint\u001b[0m\u001b[0;34m)\u001b[0m\u001b[0;34m\u001b[0m\u001b[0;34m\u001b[0m\u001b[0m\n\u001b[1;32m      3\u001b[0m \u001b[0mdf\u001b[0m\u001b[0;34m.\u001b[0m\u001b[0msys_sunset\u001b[0m \u001b[0;34m=\u001b[0m \u001b[0mdf\u001b[0m\u001b[0;34m.\u001b[0m\u001b[0msys_sunset\u001b[0m\u001b[0;34m.\u001b[0m\u001b[0mastype\u001b[0m\u001b[0;34m(\u001b[0m\u001b[0mint\u001b[0m\u001b[0;34m)\u001b[0m\u001b[0;34m\u001b[0m\u001b[0;34m\u001b[0m\u001b[0m\n\u001b[1;32m      4\u001b[0m \u001b[0;32mfor\u001b[0m \u001b[0mcolumn\u001b[0m \u001b[0;32min\u001b[0m \u001b[0mdf\u001b[0m\u001b[0;34m.\u001b[0m\u001b[0mcolumns\u001b[0m\u001b[0;34m:\u001b[0m\u001b[0;34m\u001b[0m\u001b[0;34m\u001b[0m\u001b[0m\n",
      "\u001b[0;32m~/miniforge3/envs/iccd332/lib/python3.12/site-packages/pandas/core/generic.py\u001b[0m in \u001b[0;36m?\u001b[0;34m(self, name)\u001b[0m\n\u001b[1;32m   6295\u001b[0m             \u001b[0;32mand\u001b[0m \u001b[0mname\u001b[0m \u001b[0;32mnot\u001b[0m \u001b[0;32min\u001b[0m \u001b[0mself\u001b[0m\u001b[0;34m.\u001b[0m\u001b[0m_accessors\u001b[0m\u001b[0;34m\u001b[0m\u001b[0;34m\u001b[0m\u001b[0m\n\u001b[1;32m   6296\u001b[0m             \u001b[0;32mand\u001b[0m \u001b[0mself\u001b[0m\u001b[0;34m.\u001b[0m\u001b[0m_info_axis\u001b[0m\u001b[0;34m.\u001b[0m\u001b[0m_can_hold_identifiers_and_holds_name\u001b[0m\u001b[0;34m(\u001b[0m\u001b[0mname\u001b[0m\u001b[0;34m)\u001b[0m\u001b[0;34m\u001b[0m\u001b[0;34m\u001b[0m\u001b[0m\n\u001b[1;32m   6297\u001b[0m         \u001b[0;34m)\u001b[0m\u001b[0;34m:\u001b[0m\u001b[0;34m\u001b[0m\u001b[0;34m\u001b[0m\u001b[0m\n\u001b[1;32m   6298\u001b[0m             \u001b[0;32mreturn\u001b[0m \u001b[0mself\u001b[0m\u001b[0;34m[\u001b[0m\u001b[0mname\u001b[0m\u001b[0;34m]\u001b[0m\u001b[0;34m\u001b[0m\u001b[0;34m\u001b[0m\u001b[0m\n\u001b[0;32m-> 6299\u001b[0;31m         \u001b[0;32mreturn\u001b[0m \u001b[0mobject\u001b[0m\u001b[0;34m.\u001b[0m\u001b[0m__getattribute__\u001b[0m\u001b[0;34m(\u001b[0m\u001b[0mself\u001b[0m\u001b[0;34m,\u001b[0m \u001b[0mname\u001b[0m\u001b[0;34m)\u001b[0m\u001b[0;34m\u001b[0m\u001b[0;34m\u001b[0m\u001b[0m\n\u001b[0m",
      "\u001b[0;31mAttributeError\u001b[0m: 'DataFrame' object has no attribute 'dt'"
     ]
    }
   ],
   "source": [
    "df.dt = df.dt.astype(int)\n",
    "df.sys_sunrise = df.sys_sunrise.astype(int)\n",
    "df.sys_sunset = df.sys_sunset.astype(int)\n",
    "for column in df.columns:\n",
    "    try:\n",
    "        df[column] = pd.to_numeric(df[column])\n",
    "    except ValueError:\n",
    "        next"
   ]
  },
  {
   "cell_type": "code",
   "execution_count": 29,
   "id": "86a5941b-e1dc-44a8-925e-6a000d14e6bf",
   "metadata": {},
   "outputs": [
    {
     "name": "stdout",
     "output_type": "stream",
     "text": [
      "<class 'pandas.core.frame.DataFrame'>\n",
      "RangeIndex: 28 entries, 0 to 27\n",
      "Data columns (total 7 columns):\n",
      " #   Column           Non-Null Count  Dtype \n",
      "---  ------           --------------  ----- \n",
      " 0   Fecha            28 non-null     object\n",
      " 1   Ciudad           28 non-null     object\n",
      " 2   Temperatura (K)  28 non-null     object\n",
      " 3   Humedad (%)      28 non-null     object\n",
      " 4   Descripción      28 non-null     object\n",
      " 5   Lluvia (mm)      28 non-null     object\n",
      " 6   Nieve (mm)       28 non-null     object\n",
      "dtypes: object(7)\n",
      "memory usage: 1.7+ KB\n"
     ]
    }
   ],
   "source": [
    "df.info()"
   ]
  },
  {
   "cell_type": "code",
   "execution_count": 20,
   "id": "33a57a27-7d27-43a0-a73e-f57d2e545a34",
   "metadata": {},
   "outputs": [
    {
     "ename": "AttributeError",
     "evalue": "'DataFrame' object has no attribute 'dt'",
     "output_type": "error",
     "traceback": [
      "\u001b[0;31m---------------------------------------------------------------------------\u001b[0m",
      "\u001b[0;31mAttributeError\u001b[0m                            Traceback (most recent call last)",
      "\u001b[0;32m/tmp/ipykernel_56500/2175286413.py\u001b[0m in \u001b[0;36m?\u001b[0;34m()\u001b[0m\n\u001b[1;32m      1\u001b[0m \u001b[0;32mfrom\u001b[0m \u001b[0mdatetime\u001b[0m \u001b[0;32mimport\u001b[0m \u001b[0mdatetime\u001b[0m\u001b[0;34m\u001b[0m\u001b[0;34m\u001b[0m\u001b[0m\n\u001b[1;32m      2\u001b[0m \u001b[0mdf_etl\u001b[0m \u001b[0;34m=\u001b[0m \u001b[0mdf\u001b[0m\u001b[0;34m.\u001b[0m\u001b[0mcopy\u001b[0m\u001b[0;34m(\u001b[0m\u001b[0;34m)\u001b[0m\u001b[0;34m\u001b[0m\u001b[0;34m\u001b[0m\u001b[0m\n\u001b[0;32m----> 3\u001b[0;31m \u001b[0mdf_etl\u001b[0m\u001b[0;34m.\u001b[0m\u001b[0mdt\u001b[0m \u001b[0;34m=\u001b[0m \u001b[0mdf\u001b[0m\u001b[0;34m.\u001b[0m\u001b[0mdt\u001b[0m\u001b[0;34m.\u001b[0m\u001b[0mapply\u001b[0m\u001b[0;34m(\u001b[0m\u001b[0;32mlambda\u001b[0m \u001b[0mx\u001b[0m\u001b[0;34m:\u001b[0m \u001b[0mdatetime\u001b[0m\u001b[0;34m.\u001b[0m\u001b[0mfromtimestamp\u001b[0m\u001b[0;34m(\u001b[0m\u001b[0mx\u001b[0m\u001b[0;34m)\u001b[0m\u001b[0;34m)\u001b[0m\u001b[0;34m\u001b[0m\u001b[0;34m\u001b[0m\u001b[0m\n\u001b[0m\u001b[1;32m      4\u001b[0m \u001b[0mdf_etl\u001b[0m\u001b[0;34m.\u001b[0m\u001b[0msys_sunrise\u001b[0m \u001b[0;34m=\u001b[0m \u001b[0mdf\u001b[0m\u001b[0;34m.\u001b[0m\u001b[0msys_sunrise\u001b[0m\u001b[0;34m.\u001b[0m\u001b[0mapply\u001b[0m\u001b[0;34m(\u001b[0m\u001b[0;32mlambda\u001b[0m \u001b[0mx\u001b[0m\u001b[0;34m:\u001b[0m \u001b[0mdatetime\u001b[0m\u001b[0;34m.\u001b[0m\u001b[0mfromtimestamp\u001b[0m\u001b[0;34m(\u001b[0m\u001b[0mx\u001b[0m\u001b[0;34m)\u001b[0m\u001b[0;34m)\u001b[0m\u001b[0;34m\u001b[0m\u001b[0;34m\u001b[0m\u001b[0m\n\u001b[1;32m      5\u001b[0m \u001b[0mdf_etl\u001b[0m\u001b[0;34m.\u001b[0m\u001b[0msys_sunset\u001b[0m \u001b[0;34m=\u001b[0m \u001b[0mdf\u001b[0m\u001b[0;34m.\u001b[0m\u001b[0msys_sunset\u001b[0m\u001b[0;34m.\u001b[0m\u001b[0mapply\u001b[0m\u001b[0;34m(\u001b[0m\u001b[0;32mlambda\u001b[0m \u001b[0mx\u001b[0m\u001b[0;34m:\u001b[0m \u001b[0mdatetime\u001b[0m\u001b[0;34m.\u001b[0m\u001b[0mfromtimestamp\u001b[0m\u001b[0;34m(\u001b[0m\u001b[0mx\u001b[0m\u001b[0;34m)\u001b[0m\u001b[0;34m)\u001b[0m\u001b[0;34m\u001b[0m\u001b[0;34m\u001b[0m\u001b[0m\n\u001b[1;32m      6\u001b[0m \u001b[0mdf_etl\u001b[0m\u001b[0;34m.\u001b[0m\u001b[0msample\u001b[0m\u001b[0;34m(\u001b[0m\u001b[0;36m5\u001b[0m\u001b[0;34m)\u001b[0m\u001b[0;34m\u001b[0m\u001b[0;34m\u001b[0m\u001b[0m\n",
      "\u001b[0;32m~/miniforge3/envs/iccd332/lib/python3.12/site-packages/pandas/core/generic.py\u001b[0m in \u001b[0;36m?\u001b[0;34m(self, name)\u001b[0m\n\u001b[1;32m   6295\u001b[0m             \u001b[0;32mand\u001b[0m \u001b[0mname\u001b[0m \u001b[0;32mnot\u001b[0m \u001b[0;32min\u001b[0m \u001b[0mself\u001b[0m\u001b[0;34m.\u001b[0m\u001b[0m_accessors\u001b[0m\u001b[0;34m\u001b[0m\u001b[0;34m\u001b[0m\u001b[0m\n\u001b[1;32m   6296\u001b[0m             \u001b[0;32mand\u001b[0m \u001b[0mself\u001b[0m\u001b[0;34m.\u001b[0m\u001b[0m_info_axis\u001b[0m\u001b[0;34m.\u001b[0m\u001b[0m_can_hold_identifiers_and_holds_name\u001b[0m\u001b[0;34m(\u001b[0m\u001b[0mname\u001b[0m\u001b[0;34m)\u001b[0m\u001b[0;34m\u001b[0m\u001b[0;34m\u001b[0m\u001b[0m\n\u001b[1;32m   6297\u001b[0m         \u001b[0;34m)\u001b[0m\u001b[0;34m:\u001b[0m\u001b[0;34m\u001b[0m\u001b[0;34m\u001b[0m\u001b[0m\n\u001b[1;32m   6298\u001b[0m             \u001b[0;32mreturn\u001b[0m \u001b[0mself\u001b[0m\u001b[0;34m[\u001b[0m\u001b[0mname\u001b[0m\u001b[0;34m]\u001b[0m\u001b[0;34m\u001b[0m\u001b[0;34m\u001b[0m\u001b[0m\n\u001b[0;32m-> 6299\u001b[0;31m         \u001b[0;32mreturn\u001b[0m \u001b[0mobject\u001b[0m\u001b[0;34m.\u001b[0m\u001b[0m__getattribute__\u001b[0m\u001b[0;34m(\u001b[0m\u001b[0mself\u001b[0m\u001b[0;34m,\u001b[0m \u001b[0mname\u001b[0m\u001b[0;34m)\u001b[0m\u001b[0;34m\u001b[0m\u001b[0;34m\u001b[0m\u001b[0m\n\u001b[0m",
      "\u001b[0;31mAttributeError\u001b[0m: 'DataFrame' object has no attribute 'dt'"
     ]
    }
   ],
   "source": [
    "from datetime import datetime\n",
    "df_etl = df.copy()\n",
    "df_etl.dt = df.dt.apply(lambda x: datetime.fromtimestamp(x))\n",
    "df_etl.sys_sunrise = df.sys_sunrise.apply(lambda x: datetime.fromtimestamp(x))\n",
    "df_etl.sys_sunset = df.sys_sunset.apply(lambda x: datetime.fromtimestamp(x))\n",
    "df_etl.sample(5)"
   ]
  },
  {
   "cell_type": "markdown",
   "id": "ae636bdf-042d-4e05-b489-f5ebee6d5beb",
   "metadata": {},
   "source": [
    "Generalmente es de interés realizar un breve análisis estadístico de las variables del dataset"
   ]
  },
  {
   "cell_type": "code",
   "execution_count": 21,
   "id": "d57234c2-64b9-466d-91ab-9e6e16a5a9f9",
   "metadata": {},
   "outputs": [
    {
     "data": {
      "text/html": [
       "<div>\n",
       "<style scoped>\n",
       "    .dataframe tbody tr th:only-of-type {\n",
       "        vertical-align: middle;\n",
       "    }\n",
       "\n",
       "    .dataframe tbody tr th {\n",
       "        vertical-align: top;\n",
       "    }\n",
       "\n",
       "    .dataframe thead th {\n",
       "        text-align: right;\n",
       "    }\n",
       "</style>\n",
       "<table border=\"1\" class=\"dataframe\">\n",
       "  <thead>\n",
       "    <tr style=\"text-align: right;\">\n",
       "      <th></th>\n",
       "      <th>count</th>\n",
       "      <th>unique</th>\n",
       "      <th>top</th>\n",
       "      <th>freq</th>\n",
       "    </tr>\n",
       "  </thead>\n",
       "  <tbody>\n",
       "    <tr>\n",
       "      <th>Fecha</th>\n",
       "      <td>27</td>\n",
       "      <td>25</td>\n",
       "      <td>20:02.1</td>\n",
       "      <td>2</td>\n",
       "    </tr>\n",
       "    <tr>\n",
       "      <th>Ciudad</th>\n",
       "      <td>27</td>\n",
       "      <td>1</td>\n",
       "      <td>Bogota</td>\n",
       "      <td>27</td>\n",
       "    </tr>\n",
       "    <tr>\n",
       "      <th>Temperatura (K)</th>\n",
       "      <td>27</td>\n",
       "      <td>4</td>\n",
       "      <td>287.88</td>\n",
       "      <td>12</td>\n",
       "    </tr>\n",
       "    <tr>\n",
       "      <th>Humedad (%)</th>\n",
       "      <td>27</td>\n",
       "      <td>4</td>\n",
       "      <td>67</td>\n",
       "      <td>12</td>\n",
       "    </tr>\n",
       "    <tr>\n",
       "      <th>Descripción</th>\n",
       "      <td>27</td>\n",
       "      <td>3</td>\n",
       "      <td>broken clouds</td>\n",
       "      <td>13</td>\n",
       "    </tr>\n",
       "    <tr>\n",
       "      <th>Lluvia (mm)</th>\n",
       "      <td>27</td>\n",
       "      <td>1</td>\n",
       "      <td>0</td>\n",
       "      <td>27</td>\n",
       "    </tr>\n",
       "    <tr>\n",
       "      <th>Nieve (mm)</th>\n",
       "      <td>27</td>\n",
       "      <td>1</td>\n",
       "      <td>0</td>\n",
       "      <td>27</td>\n",
       "    </tr>\n",
       "  </tbody>\n",
       "</table>\n",
       "</div>"
      ],
      "text/plain": [
       "                count unique            top freq\n",
       "Fecha              27     25        20:02.1    2\n",
       "Ciudad             27      1         Bogota   27\n",
       "Temperatura (K)    27      4         287.88   12\n",
       "Humedad (%)        27      4             67   12\n",
       "Descripción        27      3  broken clouds   13\n",
       "Lluvia (mm)        27      1              0   27\n",
       "Nieve (mm)         27      1              0   27"
      ]
     },
     "execution_count": 21,
     "metadata": {},
     "output_type": "execute_result"
    }
   ],
   "source": [
    "df_etl.describe().transpose()"
   ]
  },
  {
   "cell_type": "code",
   "execution_count": 22,
   "id": "27fade28-37fd-475d-a070-d1893a109a44",
   "metadata": {},
   "outputs": [],
   "source": [
    "df_etl.to_csv('clima-quito-hoy-etl.csv', index=False)"
   ]
  },
  {
   "cell_type": "markdown",
   "id": "2d6ad91d-07e0-469d-9ceb-0b321708f067",
   "metadata": {},
   "source": [
    "### Presentación de Resultados\n",
    "\n",
    "Se procede a realizar gráficas de interés para estudiar el comportamiento climatológico"
   ]
  },
  {
   "cell_type": "code",
   "execution_count": 34,
   "id": "059d79c2-d08e-4b33-abc9-8d8f8a93c22b",
   "metadata": {},
   "outputs": [
    {
     "name": "stderr",
     "output_type": "stream",
     "text": [
      "/tmp/ipykernel_56500/1358705737.py:9: UserWarning: Could not infer format, so each element will be parsed individually, falling back to `dateutil`. To ensure parsing is consistent and as-expected, please specify a format.\n",
      "  df_etl = pd.read_csv(nombre_archivo, parse_dates=['Fecha'])\n"
     ]
    },
    {
     "data": {
      "image/png": "[encoded data removed]",
      "text/plain": [
       "<Figure size 1200x600 with 1 Axes>"
      ]
     },
     "metadata": {},
     "output_type": "display_data"
    }
   ],
   "source": [
    "import pandas as pd\n",
    "import matplotlib.pyplot as plt\n",
    "import matplotlib.dates as mdates\n",
    "\n",
    "# Leer el archivo CSV\n",
    "fecha_actual = datetime.date.today()\n",
    "nombre_archivo = f\"/home/sebastianmorales/proyecto/clima_bogota_{fecha_actual}.csv\"\n",
    "\n",
    "df_etl = pd.read_csv(nombre_archivo, parse_dates=['Fecha'])\n",
    "df_etl.rename(columns={'Fecha': 'dt', 'Temperatura (K)': 'main_temp'}, inplace=True)\n",
    "\n",
    "plt.figure(figsize=(12, 6))\n",
    "plt.plot(df_etl['dt'], df_etl['main_temp'])\n",
    "plt.grid()\n",
    "plt.title(f'Main Temp vs Time in {next(iter(set(df_etl.Ciudad)))}')\n",
    "plt.xlabel('Fecha y Hora')\n",
    "plt.ylabel('Main Temp (K)')\n",
    "plt.xticks(rotation=40)\n",
    "plt.tight_layout()\n",
    "plt.show()"
   ]
  },
  {
   "cell_type": "code",
   "execution_count": 40,
   "id": "8bf3243b-bc62-496a-b495-6cc6de15dc62",
   "metadata": {},
   "outputs": [
    {
     "ename": "ModuleNotFoundError",
     "evalue": "No module named 'plotly'",
     "output_type": "error",
     "traceback": [
      "\u001b[0;31m---------------------------------------------------------------------------\u001b[0m",
      "\u001b[0;31mModuleNotFoundError\u001b[0m                       Traceback (most recent call last)",
      "Cell \u001b[0;32mIn[40], line 1\u001b[0m\n\u001b[0;32m----> 1\u001b[0m \u001b[38;5;28;01mimport\u001b[39;00m \u001b[38;5;21;01mplotly\u001b[39;00m\u001b[38;5;21;01m.\u001b[39;00m\u001b[38;5;21;01mexpress\u001b[39;00m \u001b[38;5;28;01mas\u001b[39;00m \u001b[38;5;21;01mpx\u001b[39;00m\n\u001b[1;32m      2\u001b[0m \u001b[38;5;28;01mimport\u001b[39;00m \u001b[38;5;21;01mpandas\u001b[39;00m \u001b[38;5;28;01mas\u001b[39;00m \u001b[38;5;21;01mpd\u001b[39;00m\n\u001b[1;32m      4\u001b[0m \u001b[38;5;66;03m# Leer el archivo CSV\u001b[39;00m\n",
      "\u001b[0;31mModuleNotFoundError\u001b[0m: No module named 'plotly'"
     ]
    }
   ],
   "source": [
    "import plotly.express as px\n",
    "import pandas as pd\n",
    "\n",
    "# Leer el archivo CSV\n",
    "fecha_actual = datetime.date.today()\n",
    "nombre_archivo = f\"/home/sebastianmorales/proyecto/clima_bogota_{fecha_actual}.csv\"\n",
    "\n",
    "df_etl = pd.read_csv(nombre_archivo, parse_dates=['Fecha'])\n",
    "df_etl.rename(columns={'Fecha': 'dt', 'Temperatura (K)': 'main_temp', 'Humedad (%)': 'main_humidity'}, inplace=True)\n",
    "\n",
    "fig = px.line(df_etl, x='dt', y=['main_temp', 'main_humidity'], title=f\"Main Temp & Humidity vs Time in {next(iter(set(df_etl.Ciudad)))}\")\n",
    "fig.show()\n"
   ]
  },
  {
   "cell_type": "code",
   "execution_count": 36,
   "id": "1224ed5a-ff87-45b0-bf8d-f9930a16c595",
   "metadata": {},
   "outputs": [
    {
     "name": "stderr",
     "output_type": "stream",
     "text": [
      "/tmp/ipykernel_56500/3576148493.py:8: UserWarning: Could not infer format, so each element will be parsed individually, falling back to `dateutil`. To ensure parsing is consistent and as-expected, please specify a format.\n",
      "  df_etl = pd.read_csv(nombre_archivo, parse_dates=['Fecha'])\n"
     ]
    },
    {
     "data": {
      "image/png": "[encoded data removed]",
      "text/plain": [
       "<Figure size 1200x600 with 1 Axes>"
      ]
     },
     "metadata": {},
     "output_type": "display_data"
    }
   ],
   "source": [
    "import pandas as pd\n",
    "import matplotlib.pyplot as plt\n",
    "\n",
    "# Leer el archivo CSV\n",
    "fecha_actual = datetime.date.today()\n",
    "nombre_archivo = f\"/home/sebastianmorales/proyecto/clima_bogota_{fecha_actual}.csv\"\n",
    "\n",
    "df_etl = pd.read_csv(nombre_archivo, parse_dates=['Fecha'])\n",
    "df_etl.rename(columns={'Fecha': 'dt', 'Temperatura (K)': 'main_temp'}, inplace=True)\n",
    "\n",
    "plt.figure(figsize=(12, 6))\n",
    "df_etl['main_temp'].hist(bins=20)\n",
    "plt.title(f'Histogram of Main Temp in {next(iter(set(df_etl.Ciudad)))}')\n",
    "plt.xlabel('Main Temp (K)')\n",
    "plt.ylabel('Frequency')\n",
    "plt.grid()\n",
    "plt.tight_layout()\n",
    "plt.show()\n",
    "\n"
   ]
  },
  {
   "cell_type": "code",
   "execution_count": 37,
   "id": "862de5d6-2270-4540-a8fa-d2e404a2d3cf",
   "metadata": {},
   "outputs": [
    {
     "ename": "ModuleNotFoundError",
     "evalue": "No module named 'plotly'",
     "output_type": "error",
     "traceback": [
      "\u001b[0;31m---------------------------------------------------------------------------\u001b[0m",
      "\u001b[0;31mModuleNotFoundError\u001b[0m                       Traceback (most recent call last)",
      "Cell \u001b[0;32mIn[37], line 1\u001b[0m\n\u001b[0;32m----> 1\u001b[0m \u001b[38;5;28;01mimport\u001b[39;00m \u001b[38;5;21;01mplotly\u001b[39;00m\u001b[38;5;21;01m.\u001b[39;00m\u001b[38;5;21;01mexpress\u001b[39;00m \u001b[38;5;28;01mas\u001b[39;00m \u001b[38;5;21;01mpx\u001b[39;00m\n\u001b[1;32m      2\u001b[0m \u001b[38;5;28;01mimport\u001b[39;00m \u001b[38;5;21;01mpandas\u001b[39;00m \u001b[38;5;28;01mas\u001b[39;00m \u001b[38;5;21;01mpd\u001b[39;00m\n\u001b[1;32m      4\u001b[0m \u001b[38;5;66;03m# Leer el archivo CSV\u001b[39;00m\n",
      "\u001b[0;31mModuleNotFoundError\u001b[0m: No module named 'plotly'"
     ]
    }
   ],
   "source": [
    "import plotly.express as px\n",
    "import pandas as pd\n",
    "\n",
    "# Leer el archivo CSV\n",
    "fecha_actual = datetime.date.today()\n",
    "nombre_archivo = f\"/home/sebastianmorales/proyecto/clima_bogota_{fecha_actual}.csv\"\n",
    "\n",
    "df_etl = pd.read_csv(nombre_archivo, parse_dates=['Fecha'])\n",
    "df_etl.rename(columns={'Fecha': 'dt', 'Temperatura (K)': 'main_temp'}, inplace=True)\n",
    "\n",
    "fig = px.violin(df_etl, y='main_temp', title=f\"Violin Plot Main Temp in {next(iter(set(df_etl.Ciudad)))}\")\n",
    "fig.show()\n"
   ]
  },
  {
   "cell_type": "code",
   "execution_count": 38,
   "id": "cb9b9ebc-b73b-4321-a7e3-fe708ac1883d",
   "metadata": {},
   "outputs": [
    {
     "name": "stderr",
     "output_type": "stream",
     "text": [
      "/tmp/ipykernel_56500/4118733715.py:8: UserWarning: Could not infer format, so each element will be parsed individually, falling back to `dateutil`. To ensure parsing is consistent and as-expected, please specify a format.\n",
      "  df_etl = pd.read_csv(nombre_archivo, parse_dates=['Fecha'])\n"
     ]
    }
   ],
   "source": [
    "import pandas as pd\n",
    "import matplotlib.pyplot as plt\n",
    "\n",
    "# Leer el archivo CSV\n",
    "fecha_actual = datetime.date.today()\n",
    "nombre_archivo = f\"/home/sebastianmorales/proyecto/clima_bogota_{fecha_actual}.csv\"\n",
    "\n",
    "df_etl = pd.read_csv(nombre_archivo, parse_dates=['Fecha'])\n",
    "df_etl.rename(columns={'Fecha': 'dt', 'Temperatura (K)': 'main_temp'}, inplace=True)\n",
    "\n",
    "plt.figure(figsize=(12, 6))\n",
    "plt.plot(df_etl['dt'], df_etl['main_temp'])\n",
    "plt.grid()\n",
    "plt.title(f'Main Temp vs Time in {next(iter(set(df_etl.Ciudad)))}')\n",
    "plt.xlabel('Fecha y Hora')\n",
    "plt.ylabel('Main Temp (K)')\n",
    "plt.xticks(rotation=40)\n",
    "plt.tight_layout()\n",
    "fname = '/home/sebastianmorales/proyecto/weather-site/content/images/temperature.pdf'\n",
    "plt.savefig(fname)\n",
    "plt.close()\n"
   ]
  },
  {
   "cell_type": "code",
   "execution_count": 39,
   "id": "c05ab530-f3eb-4295-be41-05d3836596f9",
   "metadata": {},
   "outputs": [
    {
     "ename": "ModuleNotFoundError",
     "evalue": "No module named 'seaborn'",
     "output_type": "error",
     "traceback": [
      "\u001b[0;31m---------------------------------------------------------------------------\u001b[0m",
      "\u001b[0;31mModuleNotFoundError\u001b[0m                       Traceback (most recent call last)",
      "Cell \u001b[0;32mIn[39], line 2\u001b[0m\n\u001b[1;32m      1\u001b[0m \u001b[38;5;28;01mimport\u001b[39;00m \u001b[38;5;21;01mmatplotlib\u001b[39;00m\u001b[38;5;21;01m.\u001b[39;00m\u001b[38;5;21;01mpyplot\u001b[39;00m \u001b[38;5;28;01mas\u001b[39;00m \u001b[38;5;21;01mplt\u001b[39;00m\n\u001b[0;32m----> 2\u001b[0m \u001b[38;5;28;01mimport\u001b[39;00m \u001b[38;5;21;01mseaborn\u001b[39;00m \u001b[38;5;28;01mas\u001b[39;00m \u001b[38;5;21;01msns\u001b[39;00m\n\u001b[1;32m      4\u001b[0m plt\u001b[38;5;241m.\u001b[39mfigure(figsize\u001b[38;5;241m=\u001b[39m(\u001b[38;5;241m5\u001b[39m, \u001b[38;5;241m5\u001b[39m))\n\u001b[1;32m      5\u001b[0m tips \u001b[38;5;241m=\u001b[39m sns\u001b[38;5;241m.\u001b[39mload_dataset(\u001b[38;5;124m\"\u001b[39m\u001b[38;5;124mtips\u001b[39m\u001b[38;5;124m\"\u001b[39m)\n",
      "\u001b[0;31mModuleNotFoundError\u001b[0m: No module named 'seaborn'"
     ]
    }
   ],
   "source": [
    "import matplotlib.pyplot as plt\n",
    "import seaborn as sns\n",
    "\n",
    "plt.figure(figsize=(5, 5))\n",
    "tips = sns.load_dataset(\"tips\")\n",
    "sns.boxplot(x=\"day\", y=\"tip\", data=tips)\n",
    "plt.title('Boxplot of Tips by Day')\n",
    "plt.tight_layout()\n",
    "plt.show()\n"
   ]
  },
  {
   "cell_type": "code",
   "execution_count": null,
   "id": "53104dc1-2e0c-4f6a-b950-b0d93f034193",
   "metadata": {},
   "outputs": [],
   "source": []
  }
 ],
 "metadata": {
  "kernelspec": {
   "display_name": "Python 3 (ipykernel)",
   "language": "python",
   "name": "python3"
  },
  "language_info": {
   "codemirror_mode": {
    "name": "ipython",
    "version": 3
   },
   "file_extension": ".py",
   "mimetype": "text/x-python",
   "name": "python",
   "nbconvert_exporter": "python",
   "pygments_lexer": "ipython3",
   "version": "3.12.5"
  }
 },
 "nbformat": 4,
 "nbformat_minor": 5
}
